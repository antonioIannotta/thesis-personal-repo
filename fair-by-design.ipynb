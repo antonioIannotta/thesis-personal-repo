{
 "cells": [
  {
   "cell_type": "code",
   "execution_count": 29,
   "metadata": {},
   "outputs": [],
   "source": [
    "import pandas as pd\n",
    "import numpy as np\n",
    "import sklearn as skl\n",
    "from fairness import Fairness"
   ]
  },
  {
   "cell_type": "code",
   "execution_count": 30,
   "metadata": {},
   "outputs": [],
   "source": [
    "df = pd.read_excel('./dataset/default of credit card clients.xls')"
   ]
  },
  {
   "cell_type": "code",
   "execution_count": 31,
   "metadata": {},
   "outputs": [],
   "source": [
    "fairness = Fairness()"
   ]
  },
  {
   "cell_type": "code",
   "execution_count": 33,
   "metadata": {},
   "outputs": [
    {
     "ename": "TypeError",
     "evalue": "return_fairness_metric() missing 1 required positional argument: 'metric'",
     "output_type": "error",
     "traceback": [
      "\u001b[1;31m---------------------------------------------------------------------------\u001b[0m",
      "\u001b[1;31mTypeError\u001b[0m                                 Traceback (most recent call last)",
      "Cell \u001b[1;32mIn[33], line 1\u001b[0m\n\u001b[1;32m----> 1\u001b[0m fairness\u001b[39m.\u001b[39;49mcheck_for_bias(df, \u001b[39m\"\u001b[39;49m\u001b[39mdisparate_impact\u001b[39;49m\u001b[39m\"\u001b[39;49m)\n",
      "File \u001b[1;32mc:\\Users\\anton\\Desktop\\thesis-personal-repo\\fairness.py:17\u001b[0m, in \u001b[0;36mFairness.check_for_bias\u001b[1;34m(self, df, metric)\u001b[0m\n\u001b[0;32m     16\u001b[0m \u001b[39mdef\u001b[39;00m \u001b[39mcheck_for_bias\u001b[39m(\u001b[39mself\u001b[39m, df: pd\u001b[39m.\u001b[39mDataFrame, metric):\n\u001b[1;32m---> 17\u001b[0m     fairness_metric \u001b[39m=\u001b[39m return_fairness_metric(metric)\n\u001b[0;32m     18\u001b[0m     fairness_metric_obj \u001b[39m=\u001b[39m fairness_metric()\n\u001b[0;32m     19\u001b[0m     fairness_metric_obj\u001b[39m.\u001b[39mcheck(df)\n",
      "\u001b[1;31mTypeError\u001b[0m: return_fairness_metric() missing 1 required positional argument: 'metric'"
     ]
    }
   ],
   "source": [
    "fairness.check_for_bias(df, metric=\"disparate_impact\")"
   ]
  }
 ],
 "metadata": {
  "kernelspec": {
   "display_name": "Python 3",
   "language": "python",
   "name": "python3"
  },
  "language_info": {
   "codemirror_mode": {
    "name": "ipython",
    "version": 3
   },
   "file_extension": ".py",
   "mimetype": "text/x-python",
   "name": "python",
   "nbconvert_exporter": "python",
   "pygments_lexer": "ipython3",
   "version": "3.10.11"
  },
  "orig_nbformat": 4
 },
 "nbformat": 4,
 "nbformat_minor": 2
}
